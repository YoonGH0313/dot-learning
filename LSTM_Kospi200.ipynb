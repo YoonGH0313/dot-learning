{
  "nbformat": 4,
  "nbformat_minor": 0,
  "metadata": {
    "colab": {
      "name": "LSTM-Kospi200.ipynb",
      "provenance": [],
      "authorship_tag": "ABX9TyNVS03TrXLcTcgpnaG0YPf6",
      "include_colab_link": true
    },
    "kernelspec": {
      "name": "python3",
      "display_name": "Python 3"
    },
    "language_info": {
      "name": "python"
    }
  },
  "cells": [
    {
      "cell_type": "markdown",
      "metadata": {
        "id": "view-in-github",
        "colab_type": "text"
      },
      "source": [
        "<a href=\"https://colab.research.google.com/github/YoonGH0313/dot-learning/blob/master/LSTM_Kospi200.ipynb\" target=\"_parent\"><img src=\"https://colab.research.google.com/assets/colab-badge.svg\" alt=\"Open In Colab\"/></a>"
      ]
    },
    {
      "cell_type": "code",
      "metadata": {
        "id": "LP_Bt-QbLAV_"
      },
      "source": [
        "import datetime as dt\n",
        "from urllib.request import urlopen\n",
        "from bs4 import BeautifulSoup"
      ],
      "execution_count": 5,
      "outputs": []
    },
    {
      "cell_type": "markdown",
      "metadata": {
        "id": "UOQfNb-yMA8x"
      },
      "source": [
        " **date타입 객체를 사용하기 위한 datetime 모듈**\n",
        "\n",
        "**url을 통해 웹크롤링을 하기위한 urlopen 모듈**"
      ]
    },
    {
      "cell_type": "code",
      "metadata": {
        "id": "kuqwgal4L_mj"
      },
      "source": [
        "def date_format(d): #'2020-11-11'이라는 문자열을 입력받았을 때, date타입 객체의 구조를 정의하여 date타입 객체로 반환하는 함수.\n",
        "  d = str(d).replace('-','.')\n",
        "  \n",
        "  yyyy = int(d.split('.')[0])\n",
        "  mm = int(d.split('.')[1])\n",
        "  dd = int(d.split('.')[2])\n",
        "  \n",
        "  this_date = dt.date(yyyy,mm,dd)\n",
        "  return this_date"
      ],
      "execution_count": 6,
      "outputs": []
    },
    {
      "cell_type": "markdown",
      "metadata": {
        "id": "bIs0O7ZuNyDg"
      },
      "source": [
        "우선 크롤링을 위해 date객체로 문자열을 변환하는 함수를 선언\n",
        "\n",
        "https://be-myself1994.tistory.com/9 참조\n"
      ]
    },
    {
      "cell_type": "code",
      "metadata": {
        "id": "DsJAkiJ6NssU"
      },
      "source": [
        ""
      ],
      "execution_count": null,
      "outputs": []
    }
  ]
}